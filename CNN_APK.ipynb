{
 "cells": [
  {
   "cell_type": "markdown",
   "id": "a0a831d2",
   "metadata": {},
   "source": [
    "# 處理APK檔案,取XML資料"
   ]
  },
  {
   "cell_type": "code",
   "execution_count": 1,
   "id": "4ddb0198",
   "metadata": {},
   "outputs": [],
   "source": [
    "import xml.etree.ElementTree as ET\n",
    "import pandas as pd\n",
    "import os\n",
    "import shutil\n",
    "import numpy as np"
   ]
  },
  {
   "cell_type": "code",
   "execution_count": 2,
   "id": "5d51c320",
   "metadata": {},
   "outputs": [
    {
     "name": "stdout",
     "output_type": "stream",
     "text": [
      "Done\n"
     ]
    }
   ],
   "source": [
    "#將XML轉成非亂碼 , 利用 AXMLPrinter2\n",
    "def xml_decode(join_folder):\n",
    "    for apk in os.listdir(join_folder):\n",
    "        xml_place=os.path.join(join_folder, apk , \"AndroidManifest.xml\")\n",
    "        newname=os.path.join(join_folder, apk ,'AndroidManifest_new.xml')\n",
    "        os.chdir(\"D:\\\\\")\n",
    "        command = 'java -jar %s %s > %s'%('AXMLPrinter2.jar',xml_place,newname)\n",
    "        if(os.system(command) == 0):\n",
    "            continue\n",
    "        else:\n",
    "            print('失败:',command)\n",
    "    print(\"Done\")\n",
    "\n",
    "base_path='D:\\EC_T\\EC_T\\HW10\\Benign'\n",
    "#in_folder='Adware_unzip'\n",
    "#join_folder=os.path.join(base_path,in_folder)\n",
    "xml_decode(base_path)"
   ]
  },
  {
   "cell_type": "code",
   "execution_count": 4,
   "id": "4bb2264e",
   "metadata": {},
   "outputs": [],
   "source": [
    "# in_folder的位置, 因資料放置不同而有所改變\n",
    "\n",
    "base_path='D:\\EC_T\\EC_T\\HW10\\Benign'\n",
    "#in_folder='Benign_unzip'\n",
    "#join_folder=os.path.join(base_path,in_folder)\n",
    "\n",
    "os.chdir(base_path)\n",
    "\n",
    "data={}\n",
    "feature=[]\n",
    "max_len=-1\n",
    "_id= 1 \n",
    "\n",
    "#取出XML檔案的permisson特徵\n",
    "\n",
    "for apk in os.listdir(base_path):\n",
    "    \n",
    "    try:\n",
    "        xml_place = os.path.join(base_path , apk, \"AndroidManifest_new.xml\")\n",
    "        tree = ET.parse(xml_place)\n",
    "        root = tree.getroot()\n",
    "\n",
    "        temp=[\"\"]*100\n",
    "        i=0\n",
    "        for ele in root.iter('uses-permission'):\n",
    "            for p in ele.attrib.values():\n",
    "                temp[i]=p\n",
    "                feature.append(p)\n",
    "                i+=1\n",
    "        data [apk] = temp\n",
    "        _id+=1\n",
    "        \n",
    "    #若無法存取 則將無法存取的資料夾移去Fail的目錄\n",
    "    except:\n",
    "        source = os.path.join(base_path , apk)\n",
    "        in_folder_2 ='Fail'\n",
    "        destination=os.path.join(base_path,in_folder_2)\n",
    "        shutil.move(source,destination)"
   ]
  },
  {
   "cell_type": "code",
   "execution_count": 5,
   "id": "3f2d6d1c",
   "metadata": {},
   "outputs": [],
   "source": [
    "#轉為pd , 儲存特徵為CSV\n",
    "data_list = data\n",
    "my_df = pd.DataFrame(data_list)\n",
    "my_df.to_csv( 'D:\\EC_T\\EC_T\\HW10\\Benign_feature.csv'  , index=False )"
   ]
  },
  {
   "cell_type": "markdown",
   "id": "40754114",
   "metadata": {},
   "source": [
    "## 特徵資料前處理"
   ]
  },
  {
   "cell_type": "code",
   "execution_count": 82,
   "id": "01b81ba3",
   "metadata": {},
   "outputs": [],
   "source": [
    "def read_csv (path):\n",
    "    file_pd = pd.read_csv(path)\n",
    "    return file_pd"
   ]
  },
  {
   "cell_type": "code",
   "execution_count": 83,
   "id": "2f48f355",
   "metadata": {},
   "outputs": [],
   "source": [
    "def isNAN(string):\n",
    "    return string != string"
   ]
  },
  {
   "cell_type": "code",
   "execution_count": 84,
   "id": "afc611e9",
   "metadata": {},
   "outputs": [],
   "source": [
    "def create_feature_pd(sample):\n",
    "    feature = []\n",
    "    # 單獨取出特徵 , 建立 index =apk ,columns =feature 的dataframe\n",
    "    for apk in sample.columns:\n",
    "        for i in sample[apk].values:\n",
    "            if  not isNAN(i):\n",
    "                feature.append(i)\n",
    "            else:\n",
    "                continue\n",
    "    unique_feature = set (feature) # 去除重複的特徵\n",
    "    feature_pd = pd.DataFrame(index = sample.columns, columns = unique_feature)\n",
    "    \n",
    "    # 將apk有的特徵轉為 1\n",
    "    for apk in feature_pd.index:\n",
    "        for feature in sample[apk].values:\n",
    "            if not isNAN(feature):\n",
    "                for i in feature_pd.columns:\n",
    "                    if feature == i :\n",
    "                        feature_pd.loc[apk,i] = 1\n",
    "                    #else:\n",
    "                    #    feature_pd.loc[apk,i] = 0\n",
    "            #else:\n",
    "             #   feature_pd.loc[apk,i] = 0\n",
    "            \n",
    "    feature_pd = feature_pd.fillna(0)           \n",
    "    return feature_pd"
   ]
  },
  {
   "cell_type": "code",
   "execution_count": 32,
   "id": "d05e23a1",
   "metadata": {},
   "outputs": [],
   "source": [
    "SMS_feature = read_csv ('D:\\EC_T\\EC_T\\HW10\\SMS_feature.csv')\n",
    "SMS_feature_pd = create_feature_pd ( SMS_feature )\n",
    "SMS_feature_pd.to_csv( 'D:\\EC_T\\EC_T\\HW10\\SMS_feature_pd.csv'  , index=False )"
   ]
  },
  {
   "cell_type": "code",
   "execution_count": 33,
   "id": "194822c3",
   "metadata": {},
   "outputs": [],
   "source": [
    "Banking_feature = read_csv ('D:\\EC_T\\EC_T\\HW10\\Banking_feature.csv')\n",
    "Banking_feature_pd = create_feature_pd ( Banking_feature )\n",
    "Banking_feature_pd.to_csv( 'D:\\EC_T\\EC_T\\HW10\\Banking_feature_pd.csv'  , index=False )"
   ]
  },
  {
   "cell_type": "code",
   "execution_count": 34,
   "id": "c2f09a87",
   "metadata": {},
   "outputs": [],
   "source": [
    "Adware_feature = read_csv ('D:\\EC_T\\EC_T\\HW10\\Adware_feature.csv')\n",
    "Adware_feature_pd = create_feature_pd ( Adware_feature )\n",
    "Adware_feature_pd.to_csv( 'D:\\EC_T\\EC_T\\HW10\\Adware_feature_pd.csv'  , index=False )"
   ]
  },
  {
   "cell_type": "markdown",
   "id": "728a5234",
   "metadata": {},
   "source": [
    "#### 二類分類"
   ]
  },
  {
   "cell_type": "code",
   "execution_count": 35,
   "id": "522022bf",
   "metadata": {},
   "outputs": [
    {
     "name": "stdout",
     "output_type": "stream",
     "text": [
      "<class 'pandas.core.frame.DataFrame'>\n",
      "Index: 6403 entries, 000a067df9235aea987cd1e6b7768bcc1053e640b267c5b1f0deefc18be5dbe1 to ffcab4fa2a51f5fe67df821c0fa5c757d6d59164f5168dcc8bb4fbb739d73099\n",
      "Columns: 467 entries, android.permission.INTERNET to Lable\n",
      "dtypes: float64(376), int64(90), object(1)\n",
      "memory usage: 22.9+ MB\n"
     ]
    }
   ],
   "source": [
    "Ma_feature = pd.concat([SMS_feature_pd,Banking_feature_pd,Adware_feature_pd], join='outer')\n",
    "Ma_feature = Ma_feature.fillna(0)\n",
    "Ma_feature ['Lable'] = 'Malicios'\n",
    "Ma_feature.info()"
   ]
  },
  {
   "cell_type": "code",
   "execution_count": 36,
   "id": "2276d61d",
   "metadata": {},
   "outputs": [],
   "source": [
    "Ma_feature.to_csv( 'D:\\EC_T\\EC_T\\HW10\\Ma_feature.csv'  , index=False )"
   ]
  },
  {
   "cell_type": "code",
   "execution_count": null,
   "id": "88051ab4",
   "metadata": {},
   "outputs": [],
   "source": [
    "Ma_feature = read_csv ('D:\\EC_T\\EC_T\\HW10\\Ma_feature.csv')"
   ]
  },
  {
   "cell_type": "code",
   "execution_count": 39,
   "id": "306028ca",
   "metadata": {},
   "outputs": [],
   "source": [
    "Benign_feature = read_csv ('D:\\EC_T\\EC_T\\HW10\\Benign_feature.csv')\n",
    "Benign_feature_pd = create_feature_pd ( Benign_feature )\n",
    "\n",
    "Benign_feature_pd ['Lable'] = 'Benign'\n",
    "Benign_feature_pd.to_csv( 'D:\\EC_T\\EC_T\\HW10\\Benign_feature_pd.csv'  , index=False )"
   ]
  },
  {
   "cell_type": "code",
   "execution_count": 40,
   "id": "e91facd7",
   "metadata": {},
   "outputs": [],
   "source": [
    "Total_feature = pd.concat([Benign_feature_pd,Ma_feature], join='outer')\n",
    "Total_feature = Total_feature.fillna(0)\n",
    "Total_feature.to_csv( 'D:\\EC_T\\EC_T\\HW10\\Total_feature.csv' , index = False)"
   ]
  },
  {
   "cell_type": "markdown",
   "id": "dd082f49",
   "metadata": {},
   "source": [
    "#### 多類別分類"
   ]
  },
  {
   "cell_type": "code",
   "execution_count": 85,
   "id": "042ae7c9",
   "metadata": {},
   "outputs": [],
   "source": [
    "SMS_feature_pd = read_csv ('D:\\EC_T\\EC_T\\HW10\\SMS_feature_pd.csv')\n",
    "Banking_feature_pd = read_csv ('D:\\EC_T\\EC_T\\HW10\\Banking_feature_pd.csv')\n",
    "Adware_feature_pd = read_csv ('D:\\EC_T\\EC_T\\HW10\\Adware_feature_pd.csv')\n",
    "Benign_feature_pd = read_csv ('D:\\EC_T\\EC_T\\HW10\\Benign_feature_pd.csv')"
   ]
  },
  {
   "cell_type": "code",
   "execution_count": 86,
   "id": "0a788032",
   "metadata": {},
   "outputs": [],
   "source": [
    "SMS_feature_pd ['Lable']='SMS'\n",
    "Banking_feature_pd ['Lable']='Banking'\n",
    "Adware_feature_pd ['Lable']='Adware'"
   ]
  },
  {
   "cell_type": "code",
   "execution_count": 87,
   "id": "c2d81b50",
   "metadata": {},
   "outputs": [],
   "source": [
    "Muti_feature = pd.concat([SMS_feature_pd,Banking_feature_pd,Adware_feature_pd,Benign_feature_pd], join='outer')\n",
    "Muti_feature = Muti_feature.fillna(0)\n",
    "Muti_feature.to_csv( 'D:\\EC_T\\EC_T\\HW10\\Muti_feature.csv' , index = False)"
   ]
  },
  {
   "cell_type": "markdown",
   "id": "05447fa1",
   "metadata": {},
   "source": [
    "### 資料轉為圖片"
   ]
  },
  {
   "cell_type": "code",
   "execution_count": 2,
   "id": "1c0dea31",
   "metadata": {},
   "outputs": [
    {
     "data": {
      "text/html": [
       "<div>\n",
       "<style scoped>\n",
       "    .dataframe tbody tr th:only-of-type {\n",
       "        vertical-align: middle;\n",
       "    }\n",
       "\n",
       "    .dataframe tbody tr th {\n",
       "        vertical-align: top;\n",
       "    }\n",
       "\n",
       "    .dataframe thead th {\n",
       "        text-align: right;\n",
       "    }\n",
       "</style>\n",
       "<table border=\"1\" class=\"dataframe\">\n",
       "  <thead>\n",
       "    <tr style=\"text-align: right;\">\n",
       "      <th></th>\n",
       "      <th>net.infojobs.mobile.android.permission.C2D_MESSAGE</th>\n",
       "      <th>com.singlegateway.guidegame2.permission.C2D_MESSAGE</th>\n",
       "      <th>com.infostretch.iSOSAndroid.permission.C2D_MESSAGE</th>\n",
       "      <th>com.inditex.ecommerce.bershka.permission.C2D_MESSAGE</th>\n",
       "      <th>android.permission.CALL_PHONE</th>\n",
       "      <th>com.frogsparks.mytrails.gcm.permission.C2D_MESSAGE</th>\n",
       "      <th>com.sonymobile.usbux.permission.USB_HOST_DETECTION</th>\n",
       "      <th>com.petrocanada.my_petro_canada.permission.C2D_MESSAGE</th>\n",
       "      <th>com.m3tech.ablamc.permission.C2D_MESSAGE</th>\n",
       "      <th>android.permission.SEND_MAIL</th>\n",
       "      <th>...</th>\n",
       "      <th>gexin.permission.GexinService</th>\n",
       "      <th>adnroid.permission.ACCESS_CHECKIN_PROPERTTES</th>\n",
       "      <th>android.launcher.permission.READ_SETTINGS</th>\n",
       "      <th>android.permission.ACCES_MOCK_LOCATION</th>\n",
       "      <th>hitask.permission.FLOATWIN_SERVICE</th>\n",
       "      <th>adnroid.permission.CHANGE_WIFI_STATE</th>\n",
       "      <th>com.timsu.astrid.permission.READ_TASKS</th>\n",
       "      <th>android.intent.category.HOME</th>\n",
       "      <th>android.permission.CHANGE_WIMAX_STATE</th>\n",
       "      <th>android.permission.PERMISSION_NAME</th>\n",
       "    </tr>\n",
       "  </thead>\n",
       "  <tbody>\n",
       "    <tr>\n",
       "      <th>0</th>\n",
       "      <td>0.0</td>\n",
       "      <td>0.0</td>\n",
       "      <td>0.0</td>\n",
       "      <td>0.0</td>\n",
       "      <td>0</td>\n",
       "      <td>0.0</td>\n",
       "      <td>0.0</td>\n",
       "      <td>0.0</td>\n",
       "      <td>0.0</td>\n",
       "      <td>0.0</td>\n",
       "      <td>...</td>\n",
       "      <td>0.0</td>\n",
       "      <td>0.0</td>\n",
       "      <td>0.0</td>\n",
       "      <td>0.0</td>\n",
       "      <td>0.0</td>\n",
       "      <td>0.0</td>\n",
       "      <td>0.0</td>\n",
       "      <td>0.0</td>\n",
       "      <td>0.0</td>\n",
       "      <td>0.0</td>\n",
       "    </tr>\n",
       "    <tr>\n",
       "      <th>1</th>\n",
       "      <td>0.0</td>\n",
       "      <td>0.0</td>\n",
       "      <td>0.0</td>\n",
       "      <td>0.0</td>\n",
       "      <td>0</td>\n",
       "      <td>0.0</td>\n",
       "      <td>0.0</td>\n",
       "      <td>0.0</td>\n",
       "      <td>0.0</td>\n",
       "      <td>0.0</td>\n",
       "      <td>...</td>\n",
       "      <td>0.0</td>\n",
       "      <td>0.0</td>\n",
       "      <td>0.0</td>\n",
       "      <td>0.0</td>\n",
       "      <td>0.0</td>\n",
       "      <td>0.0</td>\n",
       "      <td>0.0</td>\n",
       "      <td>0.0</td>\n",
       "      <td>0.0</td>\n",
       "      <td>0.0</td>\n",
       "    </tr>\n",
       "    <tr>\n",
       "      <th>2</th>\n",
       "      <td>0.0</td>\n",
       "      <td>0.0</td>\n",
       "      <td>0.0</td>\n",
       "      <td>0.0</td>\n",
       "      <td>0</td>\n",
       "      <td>0.0</td>\n",
       "      <td>0.0</td>\n",
       "      <td>0.0</td>\n",
       "      <td>0.0</td>\n",
       "      <td>0.0</td>\n",
       "      <td>...</td>\n",
       "      <td>0.0</td>\n",
       "      <td>0.0</td>\n",
       "      <td>0.0</td>\n",
       "      <td>0.0</td>\n",
       "      <td>0.0</td>\n",
       "      <td>0.0</td>\n",
       "      <td>0.0</td>\n",
       "      <td>0.0</td>\n",
       "      <td>0.0</td>\n",
       "      <td>0.0</td>\n",
       "    </tr>\n",
       "    <tr>\n",
       "      <th>3</th>\n",
       "      <td>0.0</td>\n",
       "      <td>0.0</td>\n",
       "      <td>0.0</td>\n",
       "      <td>0.0</td>\n",
       "      <td>0</td>\n",
       "      <td>0.0</td>\n",
       "      <td>0.0</td>\n",
       "      <td>0.0</td>\n",
       "      <td>0.0</td>\n",
       "      <td>0.0</td>\n",
       "      <td>...</td>\n",
       "      <td>0.0</td>\n",
       "      <td>0.0</td>\n",
       "      <td>0.0</td>\n",
       "      <td>0.0</td>\n",
       "      <td>0.0</td>\n",
       "      <td>0.0</td>\n",
       "      <td>0.0</td>\n",
       "      <td>0.0</td>\n",
       "      <td>0.0</td>\n",
       "      <td>0.0</td>\n",
       "    </tr>\n",
       "    <tr>\n",
       "      <th>4</th>\n",
       "      <td>0.0</td>\n",
       "      <td>0.0</td>\n",
       "      <td>0.0</td>\n",
       "      <td>0.0</td>\n",
       "      <td>0</td>\n",
       "      <td>0.0</td>\n",
       "      <td>0.0</td>\n",
       "      <td>0.0</td>\n",
       "      <td>0.0</td>\n",
       "      <td>0.0</td>\n",
       "      <td>...</td>\n",
       "      <td>0.0</td>\n",
       "      <td>0.0</td>\n",
       "      <td>0.0</td>\n",
       "      <td>0.0</td>\n",
       "      <td>0.0</td>\n",
       "      <td>0.0</td>\n",
       "      <td>0.0</td>\n",
       "      <td>0.0</td>\n",
       "      <td>0.0</td>\n",
       "      <td>0.0</td>\n",
       "    </tr>\n",
       "  </tbody>\n",
       "</table>\n",
       "<p>5 rows × 3556 columns</p>\n",
       "</div>"
      ],
      "text/plain": [
       "   net.infojobs.mobile.android.permission.C2D_MESSAGE  \\\n",
       "0                                                0.0    \n",
       "1                                                0.0    \n",
       "2                                                0.0    \n",
       "3                                                0.0    \n",
       "4                                                0.0    \n",
       "\n",
       "   com.singlegateway.guidegame2.permission.C2D_MESSAGE  \\\n",
       "0                                                0.0     \n",
       "1                                                0.0     \n",
       "2                                                0.0     \n",
       "3                                                0.0     \n",
       "4                                                0.0     \n",
       "\n",
       "   com.infostretch.iSOSAndroid.permission.C2D_MESSAGE  \\\n",
       "0                                                0.0    \n",
       "1                                                0.0    \n",
       "2                                                0.0    \n",
       "3                                                0.0    \n",
       "4                                                0.0    \n",
       "\n",
       "   com.inditex.ecommerce.bershka.permission.C2D_MESSAGE  \\\n",
       "0                                                0.0      \n",
       "1                                                0.0      \n",
       "2                                                0.0      \n",
       "3                                                0.0      \n",
       "4                                                0.0      \n",
       "\n",
       "   android.permission.CALL_PHONE  \\\n",
       "0                              0   \n",
       "1                              0   \n",
       "2                              0   \n",
       "3                              0   \n",
       "4                              0   \n",
       "\n",
       "   com.frogsparks.mytrails.gcm.permission.C2D_MESSAGE  \\\n",
       "0                                                0.0    \n",
       "1                                                0.0    \n",
       "2                                                0.0    \n",
       "3                                                0.0    \n",
       "4                                                0.0    \n",
       "\n",
       "   com.sonymobile.usbux.permission.USB_HOST_DETECTION  \\\n",
       "0                                                0.0    \n",
       "1                                                0.0    \n",
       "2                                                0.0    \n",
       "3                                                0.0    \n",
       "4                                                0.0    \n",
       "\n",
       "   com.petrocanada.my_petro_canada.permission.C2D_MESSAGE  \\\n",
       "0                                                0.0        \n",
       "1                                                0.0        \n",
       "2                                                0.0        \n",
       "3                                                0.0        \n",
       "4                                                0.0        \n",
       "\n",
       "   com.m3tech.ablamc.permission.C2D_MESSAGE  android.permission.SEND_MAIL  \\\n",
       "0                                       0.0                           0.0   \n",
       "1                                       0.0                           0.0   \n",
       "2                                       0.0                           0.0   \n",
       "3                                       0.0                           0.0   \n",
       "4                                       0.0                           0.0   \n",
       "\n",
       "   ...  gexin.permission.GexinService  \\\n",
       "0  ...                            0.0   \n",
       "1  ...                            0.0   \n",
       "2  ...                            0.0   \n",
       "3  ...                            0.0   \n",
       "4  ...                            0.0   \n",
       "\n",
       "   adnroid.permission.ACCESS_CHECKIN_PROPERTTES  \\\n",
       "0                                           0.0   \n",
       "1                                           0.0   \n",
       "2                                           0.0   \n",
       "3                                           0.0   \n",
       "4                                           0.0   \n",
       "\n",
       "   android.launcher.permission.READ_SETTINGS  \\\n",
       "0                                        0.0   \n",
       "1                                        0.0   \n",
       "2                                        0.0   \n",
       "3                                        0.0   \n",
       "4                                        0.0   \n",
       "\n",
       "   android.permission.ACCES_MOCK_LOCATION  hitask.permission.FLOATWIN_SERVICE  \\\n",
       "0                                     0.0                                 0.0   \n",
       "1                                     0.0                                 0.0   \n",
       "2                                     0.0                                 0.0   \n",
       "3                                     0.0                                 0.0   \n",
       "4                                     0.0                                 0.0   \n",
       "\n",
       "   adnroid.permission.CHANGE_WIFI_STATE  \\\n",
       "0                                   0.0   \n",
       "1                                   0.0   \n",
       "2                                   0.0   \n",
       "3                                   0.0   \n",
       "4                                   0.0   \n",
       "\n",
       "   com.timsu.astrid.permission.READ_TASKS  android.intent.category.HOME  \\\n",
       "0                                     0.0                           0.0   \n",
       "1                                     0.0                           0.0   \n",
       "2                                     0.0                           0.0   \n",
       "3                                     0.0                           0.0   \n",
       "4                                     0.0                           0.0   \n",
       "\n",
       "   android.permission.CHANGE_WIMAX_STATE  android.permission.PERMISSION_NAME  \n",
       "0                                    0.0                                 0.0  \n",
       "1                                    0.0                                 0.0  \n",
       "2                                    0.0                                 0.0  \n",
       "3                                    0.0                                 0.0  \n",
       "4                                    0.0                                 0.0  \n",
       "\n",
       "[5 rows x 3556 columns]"
      ]
     },
     "execution_count": 2,
     "metadata": {},
     "output_type": "execute_result"
    }
   ],
   "source": [
    "from sklearn import preprocessing\n",
    "from sklearn.preprocessing import LabelEncoder\n",
    "from PIL import Image\n",
    "import random\n",
    "\n",
    "feature = pd.read_csv('D:\\EC_T\\EC_T\\HW10\\Total_feature.csv')\n",
    "feature.head()"
   ]
  },
  {
   "cell_type": "code",
   "execution_count": 3,
   "id": "66a91045",
   "metadata": {},
   "outputs": [],
   "source": [
    "feature ['Lable']=feature['Lable'].replace('Benign','1')\n",
    "feature ['Lable']=feature['Lable'].replace('Malicios','2')    "
   ]
  },
  {
   "cell_type": "code",
   "execution_count": 13,
   "id": "d6b6c142",
   "metadata": {},
   "outputs": [
    {
     "data": {
      "text/html": [
       "<div>\n",
       "<style scoped>\n",
       "    .dataframe tbody tr th:only-of-type {\n",
       "        vertical-align: middle;\n",
       "    }\n",
       "\n",
       "    .dataframe tbody tr th {\n",
       "        vertical-align: top;\n",
       "    }\n",
       "\n",
       "    .dataframe thead th {\n",
       "        text-align: right;\n",
       "    }\n",
       "</style>\n",
       "<table border=\"1\" class=\"dataframe\">\n",
       "  <thead>\n",
       "    <tr style=\"text-align: right;\">\n",
       "      <th></th>\n",
       "      <th>net.infojobs.mobile.android.permission.C2D_MESSAGE</th>\n",
       "      <th>com.singlegateway.guidegame2.permission.C2D_MESSAGE</th>\n",
       "      <th>com.infostretch.iSOSAndroid.permission.C2D_MESSAGE</th>\n",
       "      <th>com.inditex.ecommerce.bershka.permission.C2D_MESSAGE</th>\n",
       "      <th>android.permission.CALL_PHONE</th>\n",
       "      <th>com.frogsparks.mytrails.gcm.permission.C2D_MESSAGE</th>\n",
       "      <th>com.sonymobile.usbux.permission.USB_HOST_DETECTION</th>\n",
       "      <th>com.petrocanada.my_petro_canada.permission.C2D_MESSAGE</th>\n",
       "      <th>com.m3tech.ablamc.permission.C2D_MESSAGE</th>\n",
       "      <th>android.permission.SEND_MAIL</th>\n",
       "      <th>...</th>\n",
       "      <th>gexin.permission.GexinService</th>\n",
       "      <th>adnroid.permission.ACCESS_CHECKIN_PROPERTTES</th>\n",
       "      <th>android.launcher.permission.READ_SETTINGS</th>\n",
       "      <th>android.permission.ACCES_MOCK_LOCATION</th>\n",
       "      <th>hitask.permission.FLOATWIN_SERVICE</th>\n",
       "      <th>adnroid.permission.CHANGE_WIFI_STATE</th>\n",
       "      <th>com.timsu.astrid.permission.READ_TASKS</th>\n",
       "      <th>android.intent.category.HOME</th>\n",
       "      <th>android.permission.CHANGE_WIMAX_STATE</th>\n",
       "      <th>android.permission.PERMISSION_NAME</th>\n",
       "    </tr>\n",
       "  </thead>\n",
       "  <tbody>\n",
       "    <tr>\n",
       "      <th>0</th>\n",
       "      <td>3.0</td>\n",
       "      <td>4.0</td>\n",
       "      <td>5.0</td>\n",
       "      <td>6.0</td>\n",
       "      <td>7</td>\n",
       "      <td>8.0</td>\n",
       "      <td>9.0</td>\n",
       "      <td>10.0</td>\n",
       "      <td>11.0</td>\n",
       "      <td>12.0</td>\n",
       "      <td>...</td>\n",
       "      <td>242.0</td>\n",
       "      <td>243.0</td>\n",
       "      <td>244.0</td>\n",
       "      <td>245.0</td>\n",
       "      <td>246.0</td>\n",
       "      <td>247.0</td>\n",
       "      <td>248.0</td>\n",
       "      <td>249.0</td>\n",
       "      <td>250.0</td>\n",
       "      <td>251.0</td>\n",
       "    </tr>\n",
       "    <tr>\n",
       "      <th>1</th>\n",
       "      <td>252.0</td>\n",
       "      <td>253.0</td>\n",
       "      <td>254.0</td>\n",
       "      <td>255.0</td>\n",
       "      <td>16</td>\n",
       "      <td>3.0</td>\n",
       "      <td>4.0</td>\n",
       "      <td>5.0</td>\n",
       "      <td>6.0</td>\n",
       "      <td>7.0</td>\n",
       "      <td>...</td>\n",
       "      <td>234.0</td>\n",
       "      <td>235.0</td>\n",
       "      <td>236.0</td>\n",
       "      <td>237.0</td>\n",
       "      <td>238.0</td>\n",
       "      <td>239.0</td>\n",
       "      <td>240.0</td>\n",
       "      <td>241.0</td>\n",
       "      <td>242.0</td>\n",
       "      <td>243.0</td>\n",
       "    </tr>\n",
       "    <tr>\n",
       "      <th>2</th>\n",
       "      <td>244.0</td>\n",
       "      <td>245.0</td>\n",
       "      <td>246.0</td>\n",
       "      <td>247.0</td>\n",
       "      <td>248</td>\n",
       "      <td>249.0</td>\n",
       "      <td>250.0</td>\n",
       "      <td>251.0</td>\n",
       "      <td>252.0</td>\n",
       "      <td>253.0</td>\n",
       "      <td>...</td>\n",
       "      <td>217.0</td>\n",
       "      <td>218.0</td>\n",
       "      <td>219.0</td>\n",
       "      <td>220.0</td>\n",
       "      <td>221.0</td>\n",
       "      <td>222.0</td>\n",
       "      <td>223.0</td>\n",
       "      <td>224.0</td>\n",
       "      <td>225.0</td>\n",
       "      <td>226.0</td>\n",
       "    </tr>\n",
       "    <tr>\n",
       "      <th>3</th>\n",
       "      <td>227.0</td>\n",
       "      <td>228.0</td>\n",
       "      <td>229.0</td>\n",
       "      <td>230.0</td>\n",
       "      <td>231</td>\n",
       "      <td>232.0</td>\n",
       "      <td>233.0</td>\n",
       "      <td>234.0</td>\n",
       "      <td>235.0</td>\n",
       "      <td>236.0</td>\n",
       "      <td>...</td>\n",
       "      <td>203.0</td>\n",
       "      <td>204.0</td>\n",
       "      <td>205.0</td>\n",
       "      <td>206.0</td>\n",
       "      <td>207.0</td>\n",
       "      <td>208.0</td>\n",
       "      <td>209.0</td>\n",
       "      <td>210.0</td>\n",
       "      <td>211.0</td>\n",
       "      <td>212.0</td>\n",
       "    </tr>\n",
       "    <tr>\n",
       "      <th>4</th>\n",
       "      <td>213.0</td>\n",
       "      <td>214.0</td>\n",
       "      <td>215.0</td>\n",
       "      <td>216.0</td>\n",
       "      <td>217</td>\n",
       "      <td>218.0</td>\n",
       "      <td>219.0</td>\n",
       "      <td>220.0</td>\n",
       "      <td>221.0</td>\n",
       "      <td>222.0</td>\n",
       "      <td>...</td>\n",
       "      <td>179.0</td>\n",
       "      <td>180.0</td>\n",
       "      <td>181.0</td>\n",
       "      <td>182.0</td>\n",
       "      <td>183.0</td>\n",
       "      <td>184.0</td>\n",
       "      <td>185.0</td>\n",
       "      <td>186.0</td>\n",
       "      <td>187.0</td>\n",
       "      <td>188.0</td>\n",
       "    </tr>\n",
       "  </tbody>\n",
       "</table>\n",
       "<p>5 rows × 3556 columns</p>\n",
       "</div>"
      ],
      "text/plain": [
       "   net.infojobs.mobile.android.permission.C2D_MESSAGE  \\\n",
       "0                                                3.0    \n",
       "1                                              252.0    \n",
       "2                                              244.0    \n",
       "3                                              227.0    \n",
       "4                                              213.0    \n",
       "\n",
       "   com.singlegateway.guidegame2.permission.C2D_MESSAGE  \\\n",
       "0                                                4.0     \n",
       "1                                              253.0     \n",
       "2                                              245.0     \n",
       "3                                              228.0     \n",
       "4                                              214.0     \n",
       "\n",
       "   com.infostretch.iSOSAndroid.permission.C2D_MESSAGE  \\\n",
       "0                                                5.0    \n",
       "1                                              254.0    \n",
       "2                                              246.0    \n",
       "3                                              229.0    \n",
       "4                                              215.0    \n",
       "\n",
       "   com.inditex.ecommerce.bershka.permission.C2D_MESSAGE  \\\n",
       "0                                                6.0      \n",
       "1                                              255.0      \n",
       "2                                              247.0      \n",
       "3                                              230.0      \n",
       "4                                              216.0      \n",
       "\n",
       "   android.permission.CALL_PHONE  \\\n",
       "0                              7   \n",
       "1                             16   \n",
       "2                            248   \n",
       "3                            231   \n",
       "4                            217   \n",
       "\n",
       "   com.frogsparks.mytrails.gcm.permission.C2D_MESSAGE  \\\n",
       "0                                                8.0    \n",
       "1                                                3.0    \n",
       "2                                              249.0    \n",
       "3                                              232.0    \n",
       "4                                              218.0    \n",
       "\n",
       "   com.sonymobile.usbux.permission.USB_HOST_DETECTION  \\\n",
       "0                                                9.0    \n",
       "1                                                4.0    \n",
       "2                                              250.0    \n",
       "3                                              233.0    \n",
       "4                                              219.0    \n",
       "\n",
       "   com.petrocanada.my_petro_canada.permission.C2D_MESSAGE  \\\n",
       "0                                               10.0        \n",
       "1                                                5.0        \n",
       "2                                              251.0        \n",
       "3                                              234.0        \n",
       "4                                              220.0        \n",
       "\n",
       "   com.m3tech.ablamc.permission.C2D_MESSAGE  android.permission.SEND_MAIL  \\\n",
       "0                                      11.0                          12.0   \n",
       "1                                       6.0                           7.0   \n",
       "2                                     252.0                         253.0   \n",
       "3                                     235.0                         236.0   \n",
       "4                                     221.0                         222.0   \n",
       "\n",
       "   ...  gexin.permission.GexinService  \\\n",
       "0  ...                          242.0   \n",
       "1  ...                          234.0   \n",
       "2  ...                          217.0   \n",
       "3  ...                          203.0   \n",
       "4  ...                          179.0   \n",
       "\n",
       "   adnroid.permission.ACCESS_CHECKIN_PROPERTTES  \\\n",
       "0                                         243.0   \n",
       "1                                         235.0   \n",
       "2                                         218.0   \n",
       "3                                         204.0   \n",
       "4                                         180.0   \n",
       "\n",
       "   android.launcher.permission.READ_SETTINGS  \\\n",
       "0                                      244.0   \n",
       "1                                      236.0   \n",
       "2                                      219.0   \n",
       "3                                      205.0   \n",
       "4                                      181.0   \n",
       "\n",
       "   android.permission.ACCES_MOCK_LOCATION  hitask.permission.FLOATWIN_SERVICE  \\\n",
       "0                                   245.0                               246.0   \n",
       "1                                   237.0                               238.0   \n",
       "2                                   220.0                               221.0   \n",
       "3                                   206.0                               207.0   \n",
       "4                                   182.0                               183.0   \n",
       "\n",
       "   adnroid.permission.CHANGE_WIFI_STATE  \\\n",
       "0                                 247.0   \n",
       "1                                 239.0   \n",
       "2                                 222.0   \n",
       "3                                 208.0   \n",
       "4                                 184.0   \n",
       "\n",
       "   com.timsu.astrid.permission.READ_TASKS  android.intent.category.HOME  \\\n",
       "0                                   248.0                         249.0   \n",
       "1                                   240.0                         241.0   \n",
       "2                                   223.0                         224.0   \n",
       "3                                   209.0                         210.0   \n",
       "4                                   185.0                         186.0   \n",
       "\n",
       "   android.permission.CHANGE_WIMAX_STATE  android.permission.PERMISSION_NAME  \n",
       "0                                  250.0                               251.0  \n",
       "1                                  242.0                               243.0  \n",
       "2                                  225.0                               226.0  \n",
       "3                                  211.0                               212.0  \n",
       "4                                  187.0                               188.0  \n",
       "\n",
       "[5 rows x 3556 columns]"
      ]
     },
     "execution_count": 13,
     "metadata": {},
     "output_type": "execute_result"
    }
   ],
   "source": [
    "test = feature\n",
    "total =3\n",
    "\n",
    "for i in test.index :\n",
    "    for j in test.columns:\n",
    "        if test.loc[i,j] == 0:\n",
    "            if total !=256:\n",
    "                test.loc[i,j]= total\n",
    "                total+=1\n",
    "            else:\n",
    "                total=3\n",
    "            \n",
    "test.head()"
   ]
  },
  {
   "cell_type": "code",
   "execution_count": 18,
   "id": "e1165a04",
   "metadata": {},
   "outputs": [],
   "source": [
    "test.to_csv(\"test.csv\",index=False)"
   ]
  },
  {
   "cell_type": "code",
   "execution_count": 19,
   "id": "ea45c90c",
   "metadata": {},
   "outputs": [],
   "source": [
    "img_data =pd.read_csv('test.csv')"
   ]
  },
  {
   "cell_type": "code",
   "execution_count": 74,
   "id": "0ce1fadc",
   "metadata": {},
   "outputs": [],
   "source": [
    "end = len(img_data.columns)-1\n",
    "w = int(end**0.5) + 1\n",
    "\n",
    "data_list = []\n",
    "num = 1 \n",
    "for i in img_data.index:\n",
    "    val = list(img_data.iloc[i].values)\n",
    "\n",
    "    test = [val[i:i+w] for i in range(0,end,w)]\n",
    "    test [-1] = test[-1] + ([0]*(w-len(test[-1])))\n",
    "\n",
    "    img  = Image.fromarray(np.array(test , dtype = 'int8')).convert('L')\n",
    "    \n",
    "    if img_data.loc[ i , 'Lable'] == '1':\n",
    "        file_name = 'Benign_'+str(num) + '.jpg'\n",
    "    else:\n",
    "        file_name = 'Malicious_'+str(num) + '.jpg'\n",
    "    \n",
    "    path = os.path.join( 'D:\\EC_T\\EC_T\\HW10\\CNN_Image',file_name)\n",
    "    img.save(path)\n",
    "    \n",
    "    num+=1"
   ]
  },
  {
   "cell_type": "markdown",
   "id": "6245941a",
   "metadata": {},
   "source": [
    "# Model Traning"
   ]
  },
  {
   "cell_type": "markdown",
   "id": "7705ca1c",
   "metadata": {},
   "source": [
    "### SVM model"
   ]
  },
  {
   "cell_type": "code",
   "execution_count": 2,
   "id": "7e2939e1",
   "metadata": {},
   "outputs": [],
   "source": [
    "data = pd.read_csv('D:\\EC_T\\EC_T\\HW10\\Total_feature.csv')\n",
    "#muti_data = pd.read_csv('D:\\EC_T\\EC_T\\HW10\\Muti_feature.csv')"
   ]
  },
  {
   "cell_type": "code",
   "execution_count": 4,
   "id": "c9983963",
   "metadata": {},
   "outputs": [],
   "source": [
    "from sklearn import svm\n",
    "import pandas as pd\n",
    "import numpy as np\n",
    "import matplotlib.pyplot as plt\n",
    "from sklearn import datasets\n",
    "from sklearn.model_selection import train_test_split ,cross_val_score"
   ]
  },
  {
   "cell_type": "code",
   "execution_count": 4,
   "id": "04d49c31",
   "metadata": {},
   "outputs": [],
   "source": [
    "# 2_label\n",
    "X = data.drop(['Lable'],axis=1)\n",
    "y = data['Lable']\n",
    "X_train, X_test, y_train, y_test = train_test_split(X, y,test_size=0.2,random_state=42)"
   ]
  },
  {
   "cell_type": "code",
   "execution_count": 8,
   "id": "14878d07",
   "metadata": {},
   "outputs": [
    {
     "name": "stdout",
     "output_type": "stream",
     "text": [
      "Accu :  0.8405797101449275\n"
     ]
    }
   ],
   "source": [
    "clf=svm.SVC(kernel='rbf',C=1,gamma='auto')\n",
    "clf.fit(X_train,y_train)\n",
    "accu = cross_val_score(clf, X_test, y_test, cv=10)\n",
    "print('Accu : ',max(accu))"
   ]
  },
  {
   "cell_type": "code",
   "execution_count": 9,
   "id": "f5c961b2",
   "metadata": {},
   "outputs": [
    {
     "name": "stdout",
     "output_type": "stream",
     "text": [
      "Accu :  0.9759615384615384\n"
     ]
    }
   ],
   "source": [
    "# 二元分類\n",
    "clf2=svm.SVC(kernel='linear',C=1,gamma='auto')\n",
    "clf2.fit(X_train,y_train)\n",
    "accu = cross_val_score(clf2, X_test, y_test, cv=10)\n",
    "print('Accu : ',max(accu))"
   ]
  },
  {
   "cell_type": "code",
   "execution_count": 11,
   "id": "bfc03c23",
   "metadata": {},
   "outputs": [
    {
     "name": "stdout",
     "output_type": "stream",
     "text": [
      "Accu :  0.6057692307692307\n"
     ]
    }
   ],
   "source": [
    "clf3=svm.SVC(kernel='sigmoid',C=1,gamma='auto')\n",
    "clf3.fit(X_train,y_train)\n",
    "accu = cross_val_score(clf3, X_test, y_test, cv=10)\n",
    "print('Accu : ',max(accu))"
   ]
  },
  {
   "cell_type": "markdown",
   "id": "da80bbdf",
   "metadata": {},
   "source": [
    "### RF model"
   ]
  },
  {
   "cell_type": "code",
   "execution_count": 5,
   "id": "c6318977",
   "metadata": {},
   "outputs": [],
   "source": [
    "rf_data=data\n",
    "\n",
    "from sklearn.preprocessing import LabelEncoder\n",
    "labelencoder = LabelEncoder()\n",
    "rf_data['Lable'] = labelencoder.fit_transform(rf_data['Lable'])\n",
    "\n",
    "X = rf_data.drop(['Lable'],axis=1)\n",
    "y = rf_data['Lable']\n",
    "X_train, X_test, y_train, y_test = train_test_split(X, y,test_size=0.2,random_state=42)"
   ]
  },
  {
   "cell_type": "code",
   "execution_count": 6,
   "id": "c0dad018",
   "metadata": {},
   "outputs": [
    {
     "name": "stdout",
     "output_type": "stream",
     "text": [
      "Accu :  0.9402678728469891\n"
     ]
    }
   ],
   "source": [
    "# 二元分類\n",
    "from sklearn.ensemble import RandomForestRegressor\n",
    "rf = RandomForestRegressor(n_estimators = 100, n_jobs=4, max_features='auto')\n",
    "rf.fit(X_train, y_train)\n",
    "accu = cross_val_score(rf, X_test, y_test, cv=10)\n",
    "print('Accu : ',max(accu))"
   ]
  },
  {
   "cell_type": "markdown",
   "id": "615ae0f7",
   "metadata": {},
   "source": [
    "#### 做資料刪減--改善準確率"
   ]
  },
  {
   "cell_type": "code",
   "execution_count": 52,
   "id": "ee6507dd",
   "metadata": {},
   "outputs": [
    {
     "name": "stdout",
     "output_type": "stream",
     "text": [
      "Benign num:  3975\n",
      "Malicious num:  6403\n",
      "差 : 2428\n"
     ]
    }
   ],
   "source": [
    "total = 0\n",
    "for i in rf_data['Lable']:\n",
    "    if i == 0:\n",
    "        total+=1\n",
    "print ('Benign num: ',total)\n",
    "print ('Malicious num: ',len(rf_data['Lable'])-total)\n",
    "print ('差 :' , len(rf_data['Lable'])-2*total)"
   ]
  },
  {
   "cell_type": "code",
   "execution_count": 38,
   "id": "490670f3",
   "metadata": {},
   "outputs": [],
   "source": [
    "data_reduce = data.T\n",
    "data_reduce = data_reduce.drop(labels=range(8377,10378),axis=1)\n",
    "data_reduce = data_reduce.T"
   ]
  },
  {
   "cell_type": "code",
   "execution_count": 39,
   "id": "c6020c38",
   "metadata": {},
   "outputs": [],
   "source": [
    "X3 = data_reduce.drop(['Lable'],axis=1)\n",
    "y3 = data_reduce['Lable']\n",
    "X3_train, X3_test, y3_train, y3_test = train_test_split(X3, y3,test_size=0.2,random_state=42)"
   ]
  },
  {
   "cell_type": "code",
   "execution_count": 41,
   "id": "67c95239",
   "metadata": {},
   "outputs": [
    {
     "name": "stdout",
     "output_type": "stream",
     "text": [
      "Accu :  0.9596470456924532\n"
     ]
    }
   ],
   "source": [
    "#做資料刪減後\n",
    "rf.fit(X3_train, y3_train)\n",
    "accu = cross_val_score(rf, X3_test, y3_test, cv=10)\n",
    "print('Accu : ',max(accu))"
   ]
  },
  {
   "cell_type": "code",
   "execution_count": null,
   "id": "dcb3e43f",
   "metadata": {},
   "outputs": [],
   "source": []
  },
  {
   "cell_type": "code",
   "execution_count": null,
   "id": "16bccf68",
   "metadata": {},
   "outputs": [],
   "source": []
  },
  {
   "cell_type": "code",
   "execution_count": null,
   "id": "9a34741a",
   "metadata": {},
   "outputs": [],
   "source": []
  },
  {
   "cell_type": "code",
   "execution_count": null,
   "id": "49ae3706",
   "metadata": {},
   "outputs": [],
   "source": []
  },
  {
   "cell_type": "code",
   "execution_count": null,
   "id": "e6d93e88",
   "metadata": {},
   "outputs": [],
   "source": []
  }
 ],
 "metadata": {
  "kernelspec": {
   "display_name": "Python 3",
   "language": "python",
   "name": "python3"
  },
  "language_info": {
   "codemirror_mode": {
    "name": "ipython",
    "version": 3
   },
   "file_extension": ".py",
   "mimetype": "text/x-python",
   "name": "python",
   "nbconvert_exporter": "python",
   "pygments_lexer": "ipython3",
   "version": "3.8.5"
  }
 },
 "nbformat": 4,
 "nbformat_minor": 5
}
